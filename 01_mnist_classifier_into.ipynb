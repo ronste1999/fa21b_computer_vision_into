{
 "cells": [
  {
   "cell_type": "code",
   "execution_count": 48,
   "metadata": {
    "collapsed": true
   },
   "outputs": [],
   "source": [
    "import torch\n",
    "import pickle\n",
    "import gzip\n",
    "import matplotlib.pyplot as plt\n",
    "from torch import nn\n",
    "import numpy as np"
   ]
  },
  {
   "cell_type": "code",
   "execution_count": 49,
   "outputs": [],
   "source": [
    "file = gzip.open(\"mnist.pkl.gz\")\n",
    "((x_train, y_train), (x_valid, y_valid), _ )=pickle.load(file, encoding='latin-1')"
   ],
   "metadata": {
    "collapsed": false
   }
  },
  {
   "cell_type": "code",
   "execution_count": 50,
   "outputs": [
    {
     "data": {
      "text/plain": "(784,)"
     },
     "execution_count": 50,
     "metadata": {},
     "output_type": "execute_result"
    }
   ],
   "source": [
    "x_train[0].shape"
   ],
   "metadata": {
    "collapsed": false
   }
  },
  {
   "cell_type": "code",
   "execution_count": 51,
   "outputs": [
    {
     "data": {
      "text/plain": "784"
     },
     "execution_count": 51,
     "metadata": {},
     "output_type": "execute_result"
    }
   ],
   "source": [
    "28*28"
   ],
   "metadata": {
    "collapsed": false
   }
  },
  {
   "cell_type": "code",
   "execution_count": 52,
   "outputs": [
    {
     "data": {
      "text/plain": "<matplotlib.image.AxesImage at 0x2a2abb160>"
     },
     "execution_count": 52,
     "metadata": {},
     "output_type": "execute_result"
    },
    {
     "data": {
      "text/plain": "<Figure size 640x480 with 1 Axes>",
      "image/png": "[encoded data removed]"
     },
     "metadata": {},
     "output_type": "display_data"
    }
   ],
   "source": [
    "sample_image=x_train[7]\n",
    "sample_image=sample_image.reshape((28, 28))\n",
    "plt.imshow(sample_image)"
   ],
   "metadata": {
    "collapsed": false
   }
  },
  {
   "cell_type": "code",
   "execution_count": 53,
   "outputs": [
    {
     "data": {
      "text/plain": "3"
     },
     "execution_count": 53,
     "metadata": {},
     "output_type": "execute_result"
    }
   ],
   "source": [
    "y_train[7]"
   ],
   "metadata": {
    "collapsed": false
   }
  },
  {
   "cell_type": "markdown",
   "source": [
    "# Überlegungen zur Netzarchitektur\n",
    "\n",
    "InputNeuronen: 784\n",
    "OutputNeuronen: 10\n",
    "\n",
    "    - Neuron 0 --> wenn der Wert hier am höchsten ist. Dann soll es eine 0 sein\n",
    "    - Neuron 1 --> wenn der Wert hier am höchsten ist. Dann soll es eine 1 sein\n",
    "    - Neuron 2 --> wenn der Wert hier am höchsten ist. Dann soll es eine 2 sein\n",
    "    - Neuron 3 --> wenn der Wert hier am höchsten ist. Dann soll es eine 3 sein\n",
    "    ...\n"
   ],
   "metadata": {
    "collapsed": false
   }
  },
  {
   "cell_type": "code",
   "execution_count": 54,
   "outputs": [],
   "source": [
    "loss = nn.CrossEntropyLoss()"
   ],
   "metadata": {
    "collapsed": false
   }
  },
  {
   "cell_type": "code",
   "execution_count": 55,
   "outputs": [],
   "source": [
    "x_train = torch.tensor(x_train, dtype=torch.float)\n",
    "x_test = torch.tensor(x_valid, dtype=torch.float)\n",
    "y_train = torch.tensor(y_train, dtype=torch.long)\n",
    "y_test= torch.tensor(y_valid, dtype=torch.long)"
   ],
   "metadata": {
    "collapsed": false
   }
  },
  {
   "cell_type": "code",
   "execution_count": 62,
   "outputs": [],
   "source": [
    "class MySimpleNN(torch.nn.Module):   # MySimpleNN erbt von torch.nn.Module\n",
    "\n",
    "    # Konstruktor\n",
    "    def __init__(self):\n",
    "        # Aufruf des Superkonstruktors von torch.nn.Module\n",
    "        super(MySimpleNN, self).__init__()\n",
    "        # Definition der Schichten\n",
    "\n",
    "        # fc1 --> fully connected layer 1 von 12 auf 70 Neuronen\n",
    "        # warum 12? --> 12 Features\n",
    "        self.fc1 = torch.nn.Linear(784, 300)\n",
    "        # fc2 --> fully connected layer 2 von 70 auf 120 Neuronen\n",
    "        self.fc2 = torch.nn.Linear(300, 100)\n",
    "        # fc3 --> fully connected layer 3 von 120 auf 30 Neuronen\n",
    "        self.fc3 = torch.nn.Linear(100, 10)\n",
    "        # fc4 --> fully connected layer 4 von 30 auf 1 Neuronen\n",
    "        # Warum 1 Neuron? --> 1 Output, wir lesen da den Alkoholgehahlt aus\n",
    "\n",
    "        # Batch Normalization\n",
    "        # 70, 120, 30 sind die Anzahl der Neuronen in den Schichten\n",
    "        self.bn1 = torch.nn.BatchNorm1d(300)\n",
    "        self.bn2 = torch.nn.BatchNorm1d(100)\n",
    "\n",
    "    # forward Methode -> Forward Propagation\n",
    "    # wenn ich später ein Objekt von MySimpleNN erzeuge, dann kann ich\n",
    "    # dieses Objekt mit einem Tensor aufrufen, dann wird die forward Methode\n",
    "    # aufgerufen. z.B. model(x_train)\n",
    "    def forward(self, xb):   # xb steht für eine Batch von X-Werten\n",
    "        #print(\"xb\", xb.shape)\n",
    "        z2 = self.fc1(xb)  # dahinter steckt x@w1 + b1\n",
    "        a2 = torch.relu(z2)    # alle negativen Werte werden auf 0 gesetzt, der Rest bleibt\n",
    "        #print(\"a2\", a2.shape)\n",
    "        a2_bn = self.bn1(a2) # Normalisierung der Werte auf den Neuronen\n",
    "        #print(\"a2_bn\", a2_bn.shape)\n",
    "        z3 = self.fc2(a2_bn) # dahinter steckt a2@w2 + b2\n",
    "        #print(\"z3\", z3.shape)\n",
    "        a3 = torch.relu(z3)\n",
    "        #print(\"a3\", a3.shape)\n",
    "        a3_bn = self.bn2(a3)\n",
    "        #print(\"a3_bn\", a3_bn.shape)\n",
    "        y_hat = self.fc3(a3_bn)\n",
    "\n",
    "        return y_hat"
   ],
   "metadata": {
    "collapsed": false
   }
  },
  {
   "cell_type": "code",
   "execution_count": 63,
   "outputs": [],
   "source": [
    "def get_batch(x, y, batch_size):\n",
    "    # z.B. range(0, 10, 3) --> 0, 3, 6, 9\n",
    "    # range(start, stop, step)\n",
    "    for i in range(0, len(x), batch_size):\n",
    "        # yield: gibt den Wert zurück, aber merkt sich den aktuellen Zustand\n",
    "        yield x[i:i+batch_size], y[i:i+batch_size]"
   ],
   "metadata": {
    "collapsed": false
   }
  },
  {
   "cell_type": "code",
   "execution_count": 66,
   "outputs": [
    {
     "data": {
      "text/plain": "torch.Size([64, 10])"
     },
     "execution_count": 66,
     "metadata": {},
     "output_type": "execute_result"
    }
   ],
   "source": [
    "model = MySimpleNN()\n",
    "xb, yb = next(get_batch(x_train, y_train, 64))\n",
    "model(xb).shape"
   ],
   "metadata": {
    "collapsed": false
   }
  },
  {
   "cell_type": "code",
   "execution_count": 70,
   "outputs": [
    {
     "data": {
      "text/plain": "  0%|          | 0/100 [00:00<?, ?it/s]",
      "application/vnd.jupyter.widget-view+json": {
       "version_major": 2,
       "version_minor": 0,
       "model_id": "c682e1e30ea44b82a2d5ab3e74154fb0"
      }
     },
     "metadata": {},
     "output_type": "display_data"
    },
    {
     "data": {
      "text/plain": "[<matplotlib.lines.Line2D at 0x2a2d4b610>]"
     },
     "execution_count": 70,
     "metadata": {},
     "output_type": "execute_result"
    },
    {
     "data": {
      "text/plain": "<Figure size 640x480 with 1 Axes>",
      "image/png": "[encoded data removed]"
     },
     "metadata": {},
     "output_type": "display_data"
    }
   ],
   "source": [
    "# eigenes Modell wird erstellt\n",
    "model = MySimpleNN()\n",
    "lr=0.0001\n",
    "# trainiere immer mit 10 Datensätzen auf einmal\n",
    "batch_size=512\n",
    "\n",
    "# loss function\n",
    "# Mean Squared Error\n",
    "# die Lossfunction von Pytorch müssen erstmal erstellt werden mit ()\n",
    "loss_fn = nn.CrossEntropyLoss()\n",
    "\n",
    "def train(xb, yb):\n",
    "    y_hat=model(xb)\n",
    "    loss = loss_fn(y_hat, yb)\n",
    "    loss.backward()\n",
    "    with torch.no_grad():\n",
    "        # Iteration über alle Parameter im Modell\n",
    "        for param in model.parameters():\n",
    "            # Backpropagation, d.h. die Veränderung der Gewichte in Abhängigkeit der Ableitung\n",
    "            param -= lr * param.grad\n",
    "        # Alle Gradients im Modell werden auf 0 gesetzt\n",
    "        model.zero_grad()\n",
    "    return loss.item()\n",
    "\n",
    "losses=[]\n",
    "batch_count=len(x_train)//batch_size\n",
    "# import tqdm notebook\n",
    "from tqdm.notebook import tqdm\n",
    "for epoch in tqdm(range(100)):\n",
    "    loss_sum=0\n",
    "    # Iteration über alle Batches\n",
    "    for xb, yb in get_batch(x_train, y_train, batch_size):\n",
    "        loss_sum+=train(xb, yb)\n",
    "    losses.append(loss_sum/batch_count)\n",
    "\n",
    "#plot\n",
    "import matplotlib.pyplot as plt\n",
    "plt.plot(losses)"
   ],
   "metadata": {
    "collapsed": false
   }
  },
  {
   "cell_type": "code",
   "execution_count": 73,
   "outputs": [
    {
     "data": {
      "text/plain": "torch.Size([64, 10])"
     },
     "execution_count": 73,
     "metadata": {},
     "output_type": "execute_result"
    }
   ],
   "source": [
    "xb_test, yb_test = next(get_batch(x_test, y_test, 64))\n",
    "preds = model(xb_test)\n",
    "preds.shape"
   ],
   "metadata": {
    "collapsed": false
   }
  },
  {
   "cell_type": "markdown",
   "source": [
    "64: Batch-Size\n",
    "10: das sind die Neuronen auf dem Outputlayer\n",
    "d.h.: wir haben für jedes Bild in der Batch jeweils 10 Neuronen als Ergebnis\n",
    "\n",
    "Was würde z.B. [ 0.1, 0.7, 0.01, 0.07, 0.04. 0.3, 0.1, 0.8, 0.0, 0.1 ] bedeuten? --> 7 wird predicted"
   ],
   "metadata": {
    "collapsed": false
   }
  },
  {
   "cell_type": "code",
   "execution_count": 74,
   "outputs": [
    {
     "data": {
      "text/plain": "tensor([-0.8581,  0.9471,  1.1328,  3.1430, -2.1607,  0.4141, -1.4902, -1.0822,\n        -0.3741, -1.8699], grad_fn=<SelectBackward0>)"
     },
     "execution_count": 74,
     "metadata": {},
     "output_type": "execute_result"
    }
   ],
   "source": [
    "preds[0]"
   ],
   "metadata": {
    "collapsed": false
   }
  },
  {
   "cell_type": "markdown",
   "source": [
    "An welcher Stelle ist die höchste Zahl"
   ],
   "metadata": {
    "collapsed": false
   }
  },
  {
   "cell_type": "code",
   "execution_count": 77,
   "outputs": [
    {
     "data": {
      "text/plain": "tensor(3)"
     },
     "execution_count": 77,
     "metadata": {},
     "output_type": "execute_result"
    }
   ],
   "source": [
    "torch.argmax(preds[0]) # argmax liefert den Index der höchsten Zahl"
   ],
   "metadata": {
    "collapsed": false
   }
  },
  {
   "cell_type": "markdown",
   "source": [],
   "metadata": {
    "collapsed": false
   }
  },
  {
   "cell_type": "code",
   "execution_count": 78,
   "outputs": [
    {
     "data": {
      "text/plain": "tensor(3)"
     },
     "execution_count": 78,
     "metadata": {},
     "output_type": "execute_result"
    }
   ],
   "source": [
    "yb_test[0]"
   ],
   "metadata": {
    "collapsed": false
   }
  },
  {
   "cell_type": "markdown",
   "source": [
    "Das ist korrekt predictet!!"
   ],
   "metadata": {
    "collapsed": false
   }
  },
  {
   "cell_type": "code",
   "execution_count": 108,
   "outputs": [],
   "source": [
    "\n",
    "preds = model(x_test)\n",
    "preds = torch.argmax(preds, dim=1)\n"
   ],
   "metadata": {
    "collapsed": false
   }
  },
  {
   "cell_type": "code",
   "execution_count": 115,
   "outputs": [
    {
     "name": "stdout",
     "output_type": "stream",
     "text": [
      "9003 von  10000 korrekt vorhergesagt\n"
     ]
    }
   ],
   "source": [
    "correct=0\n",
    "for i in range(len(preds)):\n",
    "    if preds[i]==y_valid[i]:\n",
    "        correct+=1\n",
    "\n",
    "print(correct, \"von \", len(x_valid), \"korrekt vorhergesagt\")"
   ],
   "metadata": {
    "collapsed": false
   }
  },
  {
   "cell_type": "code",
   "execution_count": 117,
   "outputs": [
    {
     "data": {
      "text/plain": "tensor(9003)"
     },
     "execution_count": 117,
     "metadata": {},
     "output_type": "execute_result"
    }
   ],
   "source": [
    "# kürzere Alternative\n",
    "correct=sum(preds == y_test)\n",
    "correct"
   ],
   "metadata": {
    "collapsed": false
   }
  },
  {
   "cell_type": "code",
   "execution_count": null,
   "outputs": [],
   "source": [],
   "metadata": {
    "collapsed": false
   }
  }
 ],
 "metadata": {
  "kernelspec": {
   "display_name": "Python 3",
   "language": "python",
   "name": "python3"
  },
  "language_info": {
   "codemirror_mode": {
    "name": "ipython",
    "version": 2
   },
   "file_extension": ".py",
   "mimetype": "text/x-python",
   "name": "python",
   "nbconvert_exporter": "python",
   "pygments_lexer": "ipython2",
   "version": "2.7.6"
  }
 },
 "nbformat": 4,
 "nbformat_minor": 0
}
