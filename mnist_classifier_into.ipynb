{
 "cells": [
  {
   "cell_type": "code",
   "execution_count": 36,
   "metadata": {
    "collapsed": true
   },
   "outputs": [],
   "source": [
    "import torch\n",
    "import pickle\n",
    "import gzip\n",
    "import matplotlib.pyplot as plt\n",
    "from torch import nn\n",
    "import numpy as np"
   ]
  },
  {
   "cell_type": "code",
   "execution_count": 37,
   "metadata": {
    "collapsed": false
   },
   "outputs": [],
   "source": [
    "file = gzip.open(\"mnist.pkl.gz\")\n",
    "((x_train, y_train), (x_valid, y_valid), _ )=pickle.load(file, encoding='latin-1')"
   ]
  },
  {
   "cell_type": "code",
   "execution_count": 38,
   "metadata": {},
   "outputs": [],
   "source": [
    "x_train = torch.tensor(x_train).float()\n",
    "x_valid = torch.tensor(x_valid).float()\n",
    "y_train = torch.tensor(y_train).long()\n",
    "y_valid = torch.tensor(y_valid).long()"
   ]
  },
  {
   "cell_type": "code",
   "execution_count": 39,
   "metadata": {
    "collapsed": false
   },
   "outputs": [],
   "source": [
    "class MySimpleNN(torch.nn.Module):   # MySimpleNN erbt von torch.nn.Module\n",
    "\n",
    "     # Konstruktor\n",
    "    def __init__(self, input_size=784, hidden_size=(500, 700, 10), output_size=10):\n",
    "        # Aufruf des Superkonstruktors von torch.nn.Module\n",
    "        super(MySimpleNN, self).__init__()\n",
    "        # Definition der Schichten\n",
    "\n",
    "        # fc1 --> fully connected layer 1 von 12 auf 70 Neuronen\n",
    "        # warum 12? --> 12 Features\n",
    "        self.fc1 = torch.nn.Linear(input_size, hidden_size[0])\n",
    "        # fc2 --> fully connected layer 2\n",
    "        self.fc2 = torch.nn.Linear(hidden_size[0], hidden_size[1])\n",
    "        # fc3 --> fully connected layer 3\n",
    "        self.fc3 = torch.nn.Linear(hidden_size[1], hidden_size[2])\n",
    "        # fc4 --> fully connected layer 4\n",
    "        \n",
    "        self.fc4 = torch.nn.Linear(hidden_size[2], output_size)\n",
    "\n",
    "        # Batch Normalization\n",
    "        # 70, 120, 30 sind die Anzahl der Neuronen in den Schichten\n",
    "        self.bn1 = torch.nn.BatchNorm1d(hidden_size[0])\n",
    "        self.bn2 = torch.nn.BatchNorm1d(hidden_size[1])\n",
    "        self.bn3 = torch.nn.BatchNorm1d(hidden_size[2])\n",
    "\n",
    "\n",
    "    # forward Methode -> Forward Propagation\n",
    "    # wenn ich später ein Objekt von MySimpleNN erzeuge, dann kann ich\n",
    "    # dieses Objekt mit einem Tensor aufrufen, dann wird die forward Methode\n",
    "    # aufgerufen. z.B. model(x_train)\n",
    "    def forward(self, xb):   # xb steht für eine Batch von X-Werten\n",
    "        #print(\"xb\", xb.shape)\n",
    "        z2 = self.fc1(xb)  # dahinter steckt x@w1 + b1\n",
    "        a2 = torch.relu(z2)    # alle negativen Werte werden auf 0 gesetzt, der Rest bleibt\n",
    "        #print(\"a2\", a2.shape)\n",
    "        a2_bn = self.bn1(a2) # Normalisierung der Werte auf den Neuronen\n",
    "        #print(\"a2_bn\", a2_bn.shape)\n",
    "        z3 = self.fc2(a2_bn) # dahinter steckt a2@w2 + b2\n",
    "        #print(\"z3\", z3.shape)\n",
    "        a3 = torch.relu(z3)\n",
    "        #print(\"a3\", a3.shape)\n",
    "        a3_bn = self.bn2(a3)\n",
    "        #print(\"a3_bn\", a3_bn.shape)\n",
    "        z4 = self.fc3(a3_bn)\n",
    "        #print(\"z4\", z4.shape)\n",
    "        a4 = torch.relu(z4)\n",
    "        #print(\"a4\", a4.shape)\n",
    "        a4_bn = self.bn3(a4)\n",
    "        #print(\"a4_bn\", a4_bn.shape)\n",
    "        y_hat = torch.relu(self.fc4(a4_bn))\n",
    "        #print(\"y_hat\", y_hat.shape)\n",
    "        return y_hat"
   ]
  },
  {
   "cell_type": "code",
   "execution_count": 40,
   "metadata": {
    "collapsed": false
   },
   "outputs": [],
   "source": [
    "def get_batch(x, y, batch_size):\n",
    "    for i in range(0, len(x), batch_size):\n",
    "        # yield: gibt den Wert zurück, aber merkt sich den aktuellen Zustand\n",
    "        yield x[i:i+batch_size], y[i:i+batch_size]"
   ]
  },
  {
   "cell_type": "code",
   "execution_count": 41,
   "metadata": {},
   "outputs": [
    {
     "name": "stdout",
     "output_type": "stream",
     "text": [
      "tensor([[0.1603, 0.0000, 0.5329, 0.2310, 0.9964, 0.0000, 0.5535, 0.0000, 0.0000,\n",
      "         0.4238],\n",
      "        [0.3157, 0.5215, 0.0000, 1.2364, 0.0000, 0.0000, 0.0000, 0.0000, 0.0000,\n",
      "         0.0000],\n",
      "        [0.3126, 0.5739, 0.0000, 0.0000, 0.8331, 0.6473, 0.0000, 0.1617, 0.0000,\n",
      "         0.0000],\n",
      "        [1.2534, 0.4011, 1.3935, 0.2249, 0.0000, 0.0000, 0.0000, 0.5223, 0.8153,\n",
      "         0.7156],\n",
      "        [0.0872, 0.0406, 0.1186, 0.0714, 0.1220, 0.0000, 0.2210, 0.0000, 0.0000,\n",
      "         0.8969],\n",
      "        [0.0000, 0.0000, 0.0000, 0.0382, 0.0027, 0.0000, 0.2340, 0.0000, 0.0000,\n",
      "         0.0000],\n",
      "        [0.0000, 0.2905, 0.0482, 0.0000, 0.0000, 0.0000, 0.0000, 0.0000, 0.8621,\n",
      "         0.0000],\n",
      "        [0.0000, 0.0000, 0.0000, 0.7108, 0.0000, 0.0552, 0.0000, 0.0000, 0.0000,\n",
      "         0.0000],\n",
      "        [0.4074, 0.0000, 0.2472, 0.0000, 0.0000, 0.0000, 0.2136, 0.4498, 0.4013,\n",
      "         1.2472],\n",
      "        [0.1436, 0.5436, 0.0000, 0.0000, 0.0000, 0.7405, 0.0000, 0.0000, 0.0840,\n",
      "         0.0000]], grad_fn=<ReluBackward0>)\n"
     ]
    }
   ],
   "source": [
    "xb , yb = next(get_batch(x_train, y_train, 10))\n",
    "model = MySimpleNN()\n",
    "print(model(xb))"
   ]
  },
  {
   "cell_type": "code",
   "execution_count": 43,
   "metadata": {
    "collapsed": false
   },
   "outputs": [
    {
     "name": "stdout",
     "output_type": "stream",
     "text": [
      "Epoch:  0 Loss:  0.005440594935417175 LR:  0.0001\n",
      "Epoch:  10 Loss:  0.0004885121419280768 LR:  0.0001\n",
      "Epoch:  20 Loss:  0.00012913090280257167 LR:  0.0001\n",
      "Epoch:  30 Loss:  5.22191101720091e-05 LR:  0.0001\n",
      "Epoch:  40 Loss:  2.7059253493716825e-05 LR:  0.0001\n"
     ]
    },
    {
     "data": {
      "text/plain": [
       "[<matplotlib.lines.Line2D at 0x7ff61b732260>]"
      ]
     },
     "execution_count": 43,
     "metadata": {},
     "output_type": "execute_result"
    },
    {
     "data": {
      "image/png": "[encoded data removed]",
      "text/plain": [
       "<Figure size 640x480 with 1 Axes>"
      ]
     },
     "metadata": {},
     "output_type": "display_data"
    }
   ],
   "source": [
    "# eigenes Modell wird erstellt\n",
    "model = MySimpleNN()\n",
    "lr=0.0001\n",
    "# trainiere immer mit 256 Datensätzen auf einmal\n",
    "batch_size=256\n",
    "\n",
    "# loss function\n",
    "# die Lossfunction von Pytorch müssen erstmal erstellt werden mit ()\n",
    "loss_fn = nn.CrossEntropyLoss()\n",
    "\n",
    "# Optimizer\n",
    "# Adam Optimizer\n",
    "optimizer = torch.optim.Adam(model.parameters(), lr=lr)\n",
    "\n",
    "\n",
    "optimizer = torch.optim.Adam(model.parameters(), lr=lr)\n",
    "scheduler = torch.optim.lr_scheduler.ReduceLROnPlateau(optimizer, mode='min',factor=0.1, patience=10)\n",
    "\n",
    "def train(xb, yb):\n",
    "    y_hat=model(xb)\n",
    "    loss = loss_fn(y_hat, yb)\n",
    "    loss.backward()\n",
    "    optimizer.step()\n",
    "    return loss.item()\n",
    "\n",
    "losses=[]\n",
    "# import tqdm notebook\n",
    "for epoch in (range(50)):\n",
    "    loss_sum=0\n",
    "    # Iteration über alle Batches\n",
    "    for xb, yb in get_batch(x_train, y_train, batch_size):\n",
    "        loss_sum += train(xb, yb)\n",
    "    loss_epoch = loss_sum/len(x_train)\n",
    "    losses.append(loss_sum/len(x_train))\n",
    "    scheduler.step(loss_epoch)\n",
    "    if epoch % 10 == 0:\n",
    "        print(\"Epoch: \", epoch, \"Loss: \", loss_epoch, \"LR: \", optimizer.param_groups[0]['lr'])\n",
    "\n",
    "#plot\n",
    "import matplotlib.pyplot as plt\n",
    "plt.plot(losses)"
   ]
  },
  {
   "cell_type": "code",
   "execution_count": null,
   "metadata": {
    "collapsed": false
   },
   "outputs": [
    {
     "data": {
      "text/plain": [
       "3"
      ]
     },
     "execution_count": 6,
     "metadata": {},
     "output_type": "execute_result"
    }
   ],
   "source": []
  },
  {
   "cell_type": "markdown",
   "metadata": {
    "collapsed": false
   },
   "source": [
    "# Überlegungen zur Netzarchitektur\n",
    "\n",
    "InputNeuronen: 784\n",
    "OutputNeuronen: 10\n",
    "\n",
    "    - Neuron 0 --> wenn der Wert hier am höchsten ist. Dann soll es eine 0 sein\n",
    "    - Neuron 1 --> wenn der Wert hier am höchsten ist. Dann soll es eine 1 sein\n",
    "    - Neuron 2 --> wenn der Wert hier am höchsten ist. Dann soll es eine 2 sein\n",
    "    - Neuron 3 --> wenn der Wert hier am höchsten ist. Dann soll es eine 3 sein\n",
    "    ...\n"
   ]
  },
  {
   "cell_type": "code",
   "execution_count": null,
   "metadata": {
    "collapsed": false
   },
   "outputs": [],
   "source": []
  },
  {
   "cell_type": "code",
   "execution_count": null,
   "metadata": {
    "collapsed": false
   },
   "outputs": [],
   "source": []
  }
 ],
 "metadata": {
  "kernelspec": {
   "display_name": "Python 3",
   "language": "python",
   "name": "python3"
  },
  "language_info": {
   "codemirror_mode": {
    "name": "ipython",
    "version": 3
   },
   "file_extension": ".py",
   "mimetype": "text/x-python",
   "name": "python",
   "nbconvert_exporter": "python",
   "pygments_lexer": "ipython3",
   "version": "3.10.4"
  }
 },
 "nbformat": 4,
 "nbformat_minor": 0
}
